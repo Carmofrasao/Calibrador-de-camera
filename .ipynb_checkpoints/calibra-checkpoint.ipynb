{
 "cells": [
  {
   "cell_type": "code",
   "execution_count": 1,
   "id": "27705a6a-9a7d-42cf-9d84-1109c5ec072f",
   "metadata": {
    "tags": []
   },
   "outputs": [],
   "source": [
    "import cv2\n",
    "import numpy as np\n",
    "import matplotlib.pyplot as plt\n",
    "import glob\n",
    "\n",
    "CHESSBOARD_SIZE = (8, 8)\n",
    "SQUARE_SIZE = 30  # em mm\n",
    "\n",
    "chessboard_points = []\n",
    "images = []\n",
    "\n",
    "# Definir coordenadas dos pontos no tabuleiro de xadrez\n",
    "object_points = np.zeros((CHESSBOARD_SIZE[0] * CHESSBOARD_SIZE[1], 3), np.float32)\n",
    "object_points[:, :2] = np.mgrid[0:CHESSBOARD_SIZE[0], 0:CHESSBOARD_SIZE[1]].T.reshape(-1, 2) * SQUARE_SIZE\n",
    "\n",
    "for filename in glob.glob('./imagens/*.jpg'):\n",
    "    img = cv2.imread(filename)\n",
    "    gray = cv2.cvtColor(img, cv2.COLOR_BGR2GRAY)\n",
    "\n",
    "    ret, corners = cv2.findChessboardCorners(gray, CHESSBOARD_SIZE, None)\n",
    "\n",
    "    if ret == True:\n",
    "        chessboard_points.append(corners)\n",
    "        images.append(img)\n",
    "\n",
    "# Obter tamanho da imagem\n",
    "image_size = gray.shape[::-1]\n",
    "        \n",
    "ret, K, dist, rvecs, tvecs = cv2.calibrateCamera(chessboard_points, object_points, image_size, None, None)\n",
    "\n",
    "for i in range(len(images)):\n",
    "    img = images[i]\n",
    "    undistorted_img = cv2.undistort(img, K, dist)\n",
    "\n",
    "    f, (ax1, ax2) = plt.subplots(1, 2, figsize=(20,10))\n",
    "    ax1.imshow(cv2.cvtColor(img, cv2.COLOR_BGR2RGB))\n",
    "    ax1.set_title('Original Image')\n",
    "    ax2.imshow(cv2.cvtColor(undistorted_img, cv2.COLOR_BGR2RGB))\n",
    "    ax2.set_title('Undistorted Image')\n",
    "    plt.show()\n"
   ]
  }
 ],
 "metadata": {
  "kernelspec": {
   "display_name": "Python 3 (ipykernel)",
   "language": "python",
   "name": "python3"
  },
  "language_info": {
   "codemirror_mode": {
    "name": "ipython",
    "version": 3
   },
   "file_extension": ".py",
   "mimetype": "text/x-python",
   "name": "python",
   "nbconvert_exporter": "python",
   "pygments_lexer": "ipython3",
   "version": "3.10.10"
  }
 },
 "nbformat": 4,
 "nbformat_minor": 5
}
